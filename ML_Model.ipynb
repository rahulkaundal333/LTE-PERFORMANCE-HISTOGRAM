{
  "nbformat": 4,
  "nbformat_minor": 0,
  "metadata": {
    "colab": {
      "provenance": [],
      "authorship_tag": "ABX9TyP11MOEPWOmMJy8MXhxQ+VA",
      "include_colab_link": true
    },
    "kernelspec": {
      "name": "python3",
      "display_name": "Python 3"
    }
  },
  "cells": [
    {
      "cell_type": "markdown",
      "metadata": {
        "id": "view-in-github",
        "colab_type": "text"
      },
      "source": [
        "<a href=\"https://colab.research.google.com/github/rahulkaundal333/LTE-PERFORMANCE-HISTOGRAM/blob/main/ML_Model.ipynb\" target=\"_parent\"><img src=\"https://colab.research.google.com/assets/colab-badge.svg\" alt=\"Open In Colab\"/></a>"
      ]
    },
    {
      "cell_type": "code",
      "metadata": {
        "id": "BSYGVoLf2sf2"
      },
      "source": [
        "import numpy as np\n",
        "import pandas as pd"
      ],
      "execution_count": 3,
      "outputs": []
    },
    {
      "cell_type": "markdown",
      "source": [],
      "metadata": {
        "id": "xBKyJQtaF8nD"
      }
    },
    {
      "cell_type": "code",
      "metadata": {
        "id": "EGXmYkFk2zD-"
      },
      "source": [
        "import matplotlib.pyplot as plt\n"
      ],
      "execution_count": 4,
      "outputs": []
    },
    {
      "cell_type": "code",
      "metadata": {
        "id": "2kvNrgw-24cO"
      },
      "source": [
        "import seaborn as sns"
      ],
      "execution_count": 5,
      "outputs": []
    },
    {
      "cell_type": "code",
      "metadata": {
        "id": "MCT0_IV528IJ"
      },
      "source": [
        "from google.colab import files"
      ],
      "execution_count": 6,
      "outputs": []
    },
    {
      "cell_type": "code",
      "source": [
        "x_train = np.array([10, 20])\n",
        "y_train = np.array([10,12 ])\n",
        "print(f\"x_train = {x_train}\")\n",
        "print(f\"y_train = {y_train}\")"
      ],
      "metadata": {
        "colab": {
          "base_uri": "https://localhost:8080/"
        },
        "id": "S6vjEtZ5WmG_",
        "outputId": "eeb95d95-cb55-41d8-f89f-ceead0df6e4c"
      },
      "execution_count": 8,
      "outputs": [
        {
          "output_type": "stream",
          "name": "stdout",
          "text": [
            "x_train = [10 20]\n",
            "y_train = [10 12]\n"
          ]
        }
      ]
    },
    {
      "cell_type": "code",
      "source": [
        "# Plot the data points\n",
        "plt.scatter(x_train, y_train, marker='x', c='r')\n",
        "# Set the title\n",
        "plt.title(\"Throughput Vs SINR\")\n",
        "# Set the y-axis label\n",
        "plt.ylabel('Throughput(Mbps)')\n",
        "# Set the x-axis label\n",
        "plt.xlabel('SINR')\n",
        "plt.show()"
      ],
      "metadata": {
        "colab": {
          "base_uri": "https://localhost:8080/",
          "height": 295
        },
        "id": "rZpFeYVzXUPV",
        "outputId": "d7cf9882-9e7d-4a87-c862-08d6ce0df3da"
      },
      "execution_count": 10,
      "outputs": [
        {
          "output_type": "display_data",
          "data": {
            "text/plain": [
              "<Figure size 432x288 with 1 Axes>"
            ],
            "image/png": "[encoded data removed]"
          },
          "metadata": {
            "needs_background": "light"
          }
        }
      ]
    },
    {
      "cell_type": "code",
      "source": [
        "θ0 = 0.6\n",
        "θ1 = 2\n",
        "print(f\"θ0: {θ0}\")\n",
        "print(f\"θ1: {θ1}\")"
      ],
      "metadata": {
        "colab": {
          "base_uri": "https://localhost:8080/"
        },
        "id": "4Q_9EFhzXpxq",
        "outputId": "69a5de90-6d71-4a4c-f005-9727dc9c6b07"
      },
      "execution_count": 34,
      "outputs": [
        {
          "output_type": "stream",
          "name": "stdout",
          "text": [
            "θ0: 0.6\n",
            "θ1: 2\n"
          ]
        }
      ]
    },
    {
      "cell_type": "markdown",
      "source": [
        "Throughput = θo *SINR+ θ1"
      ],
      "metadata": {
        "id": "v_npewrPYoy4"
      }
    },
    {
      "cell_type": "code",
      "source": [
        "def compute_model_output(SINR, θ0 , θ1):\n",
        "    \"\"\"\n",
        "    Computes the prediction of a linear model\n",
        "    Args:\n",
        "      SINR (ndarray (m,)): Data, m examples \n",
        "      θ0,θ1 (scalar)    : model parameters  \n",
        "    Returns\n",
        "      y (ndarray (m,)): target values\n",
        "    \"\"\"\n",
        "    m = SINR.shape[0]\n",
        "    f_θ0θ1 = np.zeros(m)\n",
        "    for i in range(m):\n",
        "        f_θ0θ1[i] = θ0 * SINR[i] + θ1\n",
        "        \n",
        "    return f_θ0θ1"
      ],
      "metadata": {
        "id": "XgyXcZIhYod0"
      },
      "execution_count": 35,
      "outputs": []
    },
    {
      "cell_type": "markdown",
      "source": [
        "Now let's call the compute_model_output function and plot the output"
      ],
      "metadata": {
        "id": "lWcinowiZmQq"
      }
    },
    {
      "cell_type": "code",
      "source": [
        "tmp_f_θ0θ1 = compute_model_output(x_train, θ0, θ1,)\n",
        "\n",
        "# Plot our model prediction\n",
        "plt.plot(x_train, tmp_f_θ0θ1, c='r',label='Our Prediction')\n",
        "\n",
        "# Plot the data points\n",
        "plt.scatter(x_train, y_train, marker='x', c='r',label='Actual Values')\n",
        "\n",
        "# Set the title\n",
        "plt.title(\"Throughput Vs SINR\")\n",
        "# Set the y-axis label\n",
        "plt.ylabel('Throughput (Mbps)')\n",
        "# Set the x-axis label\n",
        "plt.xlabel('SINR')\n",
        "plt.legend()\n",
        "plt.show()"
      ],
      "metadata": {
        "colab": {
          "base_uri": "https://localhost:8080/",
          "height": 295
        },
        "id": "9RzVEwjAZm1F",
        "outputId": "85f5fa80-2f7e-41d9-9046-9cc95b7a7623"
      },
      "execution_count": 36,
      "outputs": [
        {
          "output_type": "display_data",
          "data": {
            "text/plain": [
              "<Figure size 432x288 with 1 Axes>"
            ],
            "image/png": "[encoded data removed]"
          },
          "metadata": {
            "needs_background": "light"
          }
        }
      ]
    },
    {
      "cell_type": "code",
      "source": [],
      "metadata": {
        "id": "sR1ZZ9PMXpp5"
      },
      "execution_count": null,
      "outputs": []
    }
  ]
}